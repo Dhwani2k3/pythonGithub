{
 "cells": [
  {
   "cell_type": "code",
   "execution_count": 3,
   "id": "66900ca7-f34a-4f64-8724-075777530864",
   "metadata": {},
   "outputs": [],
   "source": [
    "file=open(\"example.txt\",\"w\")\n",
    "file.write(\"Heloo this is a test file\")\n",
    "file.close()"
   ]
  },
  {
   "cell_type": "code",
   "execution_count": 4,
   "id": "059b3aad-3882-43a1-8506-f20831eeaa45",
   "metadata": {},
   "outputs": [],
   "source": [
    "filename=open(\"example.txt\",\"w\")\n",
    "dataString=\"Testing file\"\n",
    "fileContent=filename.write(dataString)\n",
    "filename.close()"
   ]
  },
  {
   "cell_type": "code",
   "execution_count": 5,
   "id": "cd86ac44-69a6-4de7-8e05-ac2e1ad08f9f",
   "metadata": {},
   "outputs": [],
   "source": [
    "filename=open(\"example.txt\",\"a\")\n",
    "dataString=\"Appended text\"\n",
    "fileContent=filename.write(dataString)\n",
    "filename.close()"
   ]
  },
  {
   "cell_type": "code",
   "execution_count": 6,
   "id": "c06f0055-71e6-42ec-8733-93b57ff895eb",
   "metadata": {},
   "outputs": [],
   "source": [
    "filename=open(\"example.txt\",\"r+\")\n",
    "dataString=\"Read write but only if file is existing\"\n",
    "fileContent=filename.write(dataString)\n",
    "filename.close()"
   ]
  },
  {
   "cell_type": "code",
   "execution_count": 7,
   "id": "a0fbd1f8-8281-43e3-ba83-e99dc65d83bd",
   "metadata": {},
   "outputs": [
    {
     "name": "stdout",
     "output_type": "stream",
     "text": [
      "Read write but only if file is existing\n"
     ]
    }
   ],
   "source": [
    "filename=open(\"example.txt\",\"r\")\n",
    "fileContent=filename.read()\n",
    "print(fileContent)"
   ]
  },
  {
   "cell_type": "code",
   "execution_count": null,
   "id": "fe66f3a2-d875-4081-b9f3-f8c231565fef",
   "metadata": {},
   "outputs": [],
   "source": [
    "filename=open(\"example.txt\",\"r\")\n",
    "dataString=\"Testing file\"\n",
    "fileContent=filename.readlines()\n",
    "print(fileContent)"
   ]
  }
 ],
 "metadata": {
  "kernelspec": {
   "display_name": "Python 3 (ipykernel)",
   "language": "python",
   "name": "python3"
  },
  "language_info": {
   "codemirror_mode": {
    "name": "ipython",
    "version": 3
   },
   "file_extension": ".py",
   "mimetype": "text/x-python",
   "name": "python",
   "nbconvert_exporter": "python",
   "pygments_lexer": "ipython3",
   "version": "3.11.0"
  }
 },
 "nbformat": 4,
 "nbformat_minor": 5
}
