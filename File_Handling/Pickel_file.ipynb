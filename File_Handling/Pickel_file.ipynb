{
 "cells": [
  {
   "cell_type": "code",
   "execution_count": 1,
   "id": "9705f2d8-18a4-465b-9d60-94b5a9b43ab1",
   "metadata": {},
   "outputs": [],
   "source": [
    "import pickle"
   ]
  },
  {
   "cell_type": "code",
   "execution_count": 10,
   "id": "d076a753-05c5-4794-a095-4f8212e33b95",
   "metadata": {},
   "outputs": [],
   "source": [
    "# writing file into a pickle extension\n",
    "data={\"name\" :\"Alice\" , \"age\":30,\"occupation\":\"Engineer\"}\n",
    "with open (\"data.pickle\",\"wb\") as file:\n",
    "    pickle.dump(data,file)\n",
    "    "
   ]
  },
  {
   "cell_type": "code",
   "execution_count": 12,
   "id": "b36f0bc1-2e00-4e4f-ad3f-4bcd99107e1f",
   "metadata": {},
   "outputs": [
    {
     "name": "stdout",
     "output_type": "stream",
     "text": [
      "{'name': 'Alice', 'age': 30, 'occupation': 'Engineer'}\n"
     ]
    }
   ],
   "source": [
    "# reading file from a pickle extension\n",
    "data={\"name\" :\"Alice\" , \"age\":30,\"occupation\":\"Engineer\"}\n",
    "with open (\"data.pickle\",\"rb\") as file:\n",
    "    f=pickle.load(file)\n",
    "    print(f)\n",
    "    "
   ]
  },
  {
   "cell_type": "code",
   "execution_count": 13,
   "id": "73f3f326-4621-4734-824f-7428e91d2b7d",
   "metadata": {},
   "outputs": [
    {
     "name": "stdout",
     "output_type": "stream",
     "text": [
      "b'\\x80\\x04\\x954\\x00\\x00\\x00\\x00\\x00\\x00\\x00}\\x94(\\x8c\\x04name\\x94\\x8c\\x05Alice\\x94\\x8c\\x03age\\x94K\\x1e\\x8c\\noccupation\\x94\\x8c\\x08Engineer\\x94u.'\n"
     ]
    }
   ],
   "source": [
    "# reading data using dumps of pickle extension \n",
    "data={\"name\" :\"Alice\" , \"age\":30,\"occupation\":\"Engineer\"}\n",
    "with open (\"data.pickle\",\"wb\") as file:\n",
    "    f=pickle.dumps(data)\n",
    "    print(f)\n",
    "    "
   ]
  },
  {
   "cell_type": "code",
   "execution_count": null,
   "id": "48fa7b31-0251-435e-9f35-e56a83469395",
   "metadata": {},
   "outputs": [],
   "source": []
  }
 ],
 "metadata": {
  "kernelspec": {
   "display_name": "Python 3 (ipykernel)",
   "language": "python",
   "name": "python3"
  },
  "language_info": {
   "codemirror_mode": {
    "name": "ipython",
    "version": 3
   },
   "file_extension": ".py",
   "mimetype": "text/x-python",
   "name": "python",
   "nbconvert_exporter": "python",
   "pygments_lexer": "ipython3",
   "version": "3.11.0"
  }
 },
 "nbformat": 4,
 "nbformat_minor": 5
}
