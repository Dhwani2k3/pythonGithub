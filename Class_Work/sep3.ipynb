{
 "cells": [
  {
   "cell_type": "code",
   "execution_count": 3,
   "id": "2e25f7fc-c442-4b48-97d0-4ca4cefa0c75",
   "metadata": {},
   "outputs": [
    {
     "name": "stdout",
     "output_type": "stream",
     "text": [
      "hello ! 😊\n"
     ]
    }
   ],
   "source": [
    "print(\"hello ! 😊\")"
   ]
  },
  {
   "cell_type": "code",
   "execution_count": null,
   "id": "119f67de-8944-4946-87a1-95940ff50e25",
   "metadata": {},
   "outputs": [],
   "source": []
  },
  {
   "cell_type": "code",
   "execution_count": 1,
   "id": "499701a3-b2e2-42d5-af68-b7211e7f32a0",
   "metadata": {},
   "outputs": [
    {
     "name": "stdout",
     "output_type": "stream",
     "text": [
      "hello \"Dhwani\"\n"
     ]
    }
   ],
   "source": [
    "str1=\"hello \\\"Dhwani\\\"\"\n",
    "print(str1)"
   ]
  },
  {
   "cell_type": "code",
   "execution_count": 3,
   "id": "77d5f3b7-a7af-46c3-991f-be17fc7fbaa3",
   "metadata": {},
   "outputs": [
    {
     "data": {
      "text/plain": [
       "'F:\\\\UPES\\\\codes program\\\\python\\\\github'"
      ]
     },
     "execution_count": 3,
     "metadata": {},
     "output_type": "execute_result"
    }
   ],
   "source": [
    "str2=r\"F:\\UPES\\codes program\\python\\github\"\n",
    "str2"
   ]
  },
  {
   "cell_type": "code",
   "execution_count": 4,
   "id": "ed6d1651-6374-412e-b2d9-0a18818f25a3",
   "metadata": {},
   "outputs": [
    {
     "name": "stdin",
     "output_type": "stream",
     "text": [
      "Enter your name: dhwani\n"
     ]
    },
    {
     "name": "stdout",
     "output_type": "stream",
     "text": [
      "Hi dhwani\n"
     ]
    }
   ],
   "source": [
    "name=input(\"Enter your name:\")\n",
    "print(\"Hi \"+name)"
   ]
  },
  {
   "cell_type": "code",
   "execution_count": 5,
   "id": "b7d3ca7a-94e3-451d-992b-f9c284c71b42",
   "metadata": {},
   "outputs": [
    {
     "name": "stdout",
     "output_type": "stream",
     "text": [
      "hello dhwani and my age is 21\n"
     ]
    }
   ],
   "source": [
    "age=21\n",
    "str1=\"hello {} and my age is {}\".format(name,age)\n",
    "print(str1)"
   ]
  },
  {
   "cell_type": "code",
   "execution_count": 6,
   "id": "2fdbd31b-0b73-4071-b922-12339926690f",
   "metadata": {},
   "outputs": [
    {
     "name": "stdout",
     "output_type": "stream",
     "text": [
      "hello dhwani and my age is 21\n"
     ]
    }
   ],
   "source": [
    "str1=f\"hello {name} and my age is {age}\"\n",
    "print(str1)"
   ]
  },
  {
   "cell_type": "code",
   "execution_count": 8,
   "id": "49e58dae-4e4a-4f4d-ab3c-8e5a25258657",
   "metadata": {},
   "outputs": [
    {
     "name": "stdout",
     "output_type": "stream",
     "text": [
      "3\n",
      "  hello planet \n"
     ]
    }
   ],
   "source": [
    "str1=\"  hello planet \"\n",
    "print(str1.find(\"e\"))\n",
    "print(str1)"
   ]
  },
  {
   "cell_type": "code",
   "execution_count": 10,
   "id": "955a41f9-dd09-482b-8433-a30945a590f9",
   "metadata": {},
   "outputs": [
    {
     "name": "stdout",
     "output_type": "stream",
     "text": [
      "hello planet\n"
     ]
    }
   ],
   "source": [
    "print(str1.strip())"
   ]
  },
  {
   "cell_type": "code",
   "execution_count": 12,
   "id": "15d1dfee-1bf0-426e-9898-d713ac22c732",
   "metadata": {},
   "outputs": [
    {
     "data": {
      "text/plain": [
       "(35, 15)"
      ]
     },
     "execution_count": 12,
     "metadata": {},
     "output_type": "execute_result"
    }
   ],
   "source": [
    "len(str2),len(str1)"
   ]
  },
  {
   "cell_type": "code",
   "execution_count": 18,
   "id": "b1f87938-f808-45bc-931e-a62845122664",
   "metadata": {},
   "outputs": [
    {
     "data": {
      "text/plain": [
       "(True, False, True)"
      ]
     },
     "execution_count": 18,
     "metadata": {},
     "output_type": "execute_result"
    }
   ],
   "source": [
    "bool(1),bool(0),bool(-1)"
   ]
  },
  {
   "cell_type": "code",
   "execution_count": null,
   "id": "046e66d1-90f7-4216-8786-24746ca886f9",
   "metadata": {},
   "outputs": [],
   "source": []
  },
  {
   "cell_type": "code",
   "execution_count": null,
   "id": "d5d7aebc-cb81-470b-b3b9-509f063ff5c3",
   "metadata": {},
   "outputs": [],
   "source": []
  },
  {
   "cell_type": "markdown",
   "id": "fbd6eec7-8718-4982-a4c3-458c3815c858",
   "metadata": {},
   "source": [
    "## sep 2, 2024"
   ]
  },
  {
   "cell_type": "code",
   "execution_count": 35,
   "id": "c632f494-bd1e-4771-8c84-55e9de7354aa",
   "metadata": {},
   "outputs": [],
   "source": [
    "str=\"subheading\""
   ]
  },
  {
   "cell_type": "code",
   "execution_count": 36,
   "id": "62ee0ba4-792e-4d18-a8c4-5c2b9bdbf853",
   "metadata": {},
   "outputs": [
    {
     "name": "stdout",
     "output_type": "stream",
     "text": [
      "SubHeading\n"
     ]
    }
   ],
   "source": [
    "s1=str[0:3:].capitalize()\n",
    "s2=str[3::].capitalize()\n",
    "print(s1+s2)"
   ]
  },
  {
   "cell_type": "code",
   "execution_count": 39,
   "id": "d1501634-67f9-4eb7-b1f1-eb2459255704",
   "metadata": {},
   "outputs": [
    {
     "name": "stdout",
     "output_type": "stream",
     "text": [
      "SubHeading\n"
     ]
    }
   ],
   "source": [
    "s1=str[0:3:].title()\n",
    "s2=str[3::].title()\n",
    "print(s1+s2)"
   ]
  },
  {
   "cell_type": "code",
   "execution_count": 47,
   "id": "cdf6ffc0-cdaa-40c1-91d9-c98fbb12d011",
   "metadata": {},
   "outputs": [
    {
     "name": "stdout",
     "output_type": "stream",
     "text": [
      "SubHeading\n"
     ]
    }
   ],
   "source": [
    "print(str[0].upper() +str[1:3]+ str[3].upper()+str[4::])"
   ]
  },
  {
   "cell_type": "code",
   "execution_count": 53,
   "id": "edd528f6-d9bd-483d-aa44-a19569aceb67",
   "metadata": {},
   "outputs": [
    {
     "name": "stdout",
     "output_type": "stream",
     "text": [
      "0\n"
     ]
    }
   ],
   "source": [
    "print(str.find(\"s\"))"
   ]
  },
  {
   "cell_type": "code",
   "execution_count": 58,
   "id": "100ece1f-714d-413c-9cb9-e71c6c5b65dd",
   "metadata": {},
   "outputs": [
    {
     "data": {
      "text/plain": [
       "6"
      ]
     },
     "execution_count": 58,
     "metadata": {},
     "output_type": "execute_result"
    }
   ],
   "source": [
    "str.find(\"d\")"
   ]
  },
  {
   "cell_type": "code",
   "execution_count": 20,
   "id": "99957334-9b73-4cf1-8502-97824e3258eb",
   "metadata": {},
   "outputs": [
    {
     "name": "stdout",
     "output_type": "stream",
     "text": [
      "4860.958333333333\n"
     ]
    }
   ],
   "source": [
    "s=233326/48\n",
    "print(s)"
   ]
  },
  {
   "cell_type": "code",
   "execution_count": 21,
   "id": "4de85e25-dd29-4db9-a858-69fa89a09300",
   "metadata": {},
   "outputs": [
    {
     "data": {
      "text/plain": [
       "4860.96"
      ]
     },
     "execution_count": 21,
     "metadata": {},
     "output_type": "execute_result"
    }
   ],
   "source": [
    "round(s,2)"
   ]
  },
  {
   "cell_type": "code",
   "execution_count": 46,
   "id": "24685d9e-c923-443a-a84b-e9c366383428",
   "metadata": {},
   "outputs": [
    {
     "data": {
      "text/plain": [
       "(23.5, 34)"
      ]
     },
     "execution_count": 46,
     "metadata": {},
     "output_type": "execute_result"
    }
   ],
   "source": [
    "s1=23.5\n",
    "s2=-34\n",
    "abs(s1),abs(s2)"
   ]
  },
  {
   "cell_type": "code",
   "execution_count": null,
   "id": "cba5ba4a-79af-478d-b8d1-4dd583c3c284",
   "metadata": {},
   "outputs": [],
   "source": []
  },
  {
   "cell_type": "code",
   "execution_count": 24,
   "id": "7e653372-724d-4f23-b894-56aa3d12bcb8",
   "metadata": {},
   "outputs": [],
   "source": [
    "#sys - system library"
   ]
  },
  {
   "cell_type": "code",
   "execution_count": 25,
   "id": "2d23bcab-2797-4f79-988a-ab92f122cbaa",
   "metadata": {},
   "outputs": [],
   "source": [
    "import sys"
   ]
  },
  {
   "cell_type": "code",
   "execution_count": 26,
   "id": "66dd949f-cfe9-46c9-acb3-0aad603201ff",
   "metadata": {},
   "outputs": [
    {
     "name": "stdout",
     "output_type": "stream",
     "text": [
      "Size of x: 28 bytes\n"
     ]
    }
   ],
   "source": [
    "x=50\n",
    "size=sys.getsizeof(x)\n",
    "print(f\"Size of x: {size} bytes\")"
   ]
  },
  {
   "cell_type": "code",
   "execution_count": 32,
   "id": "9727ae62-8888-4e91-b127-c9c11c7c729b",
   "metadata": {},
   "outputs": [
    {
     "name": "stdout",
     "output_type": "stream",
     "text": [
      "value is dhwani\n",
      "id is 1531748500016\n",
      "type is <class 'str'>\n",
      "size is 55\n",
      "\n",
      "value is 12345\n",
      "id is 1531748174128\n",
      "type is <class 'int'>\n",
      "size is 28\n"
     ]
    }
   ],
   "source": [
    "def myprint(testvar):\n",
    "    print(f\"value is {testvar}\")\n",
    "    print(f\"id is {id(testvar)}\")\n",
    "    print(f\"type is {type(testvar)}\")\n",
    "    print(f\"size is {sys.getsizeof(testvar)}\")\n",
    "\n",
    "myprint(\"dhwani\")\n",
    "print()\n",
    "myprint(12345)"
   ]
  },
  {
   "cell_type": "code",
   "execution_count": null,
   "id": "34ee11fa-3689-43be-8ff2-a2a53d6beffe",
   "metadata": {},
   "outputs": [],
   "source": []
  },
  {
   "cell_type": "code",
   "execution_count": 33,
   "id": "e1f50380-2b1f-4047-9f6b-4a8f58847992",
   "metadata": {},
   "outputs": [],
   "source": [
    "#id"
   ]
  },
  {
   "cell_type": "code",
   "execution_count": 36,
   "id": "02543c82-d843-4ff0-8495-1063f0be4e21",
   "metadata": {},
   "outputs": [
    {
     "name": "stdout",
     "output_type": "stream",
     "text": [
      "140734071624840\n",
      "140734071625128\n"
     ]
    }
   ],
   "source": [
    "a=12\n",
    "b=21\n",
    "print(id(a))\n",
    "print(id(b))"
   ]
  },
  {
   "cell_type": "code",
   "execution_count": 40,
   "id": "a0a54b0f-5b03-4a77-badd-7b50261bba96",
   "metadata": {},
   "outputs": [
    {
     "name": "stdout",
     "output_type": "stream",
     "text": [
      "140734071624872\n",
      "140734071624808\n"
     ]
    }
   ],
   "source": [
    "\n",
    "c=a+1\n",
    "print(id(c))\n",
    "c=a-1\n",
    "print(id(c))"
   ]
  },
  {
   "cell_type": "code",
   "execution_count": 42,
   "id": "22dd93dd-f36a-4846-b176-c92d1b0617dd",
   "metadata": {},
   "outputs": [
    {
     "name": "stdout",
     "output_type": "stream",
     "text": [
      "140734071624456\n",
      "140734071624488\n",
      "140734071624520\n",
      "140734071624552\n",
      "140734071624584\n",
      "140734071624616\n",
      "140734071624648\n",
      "140734071624680\n",
      "140734071624712\n",
      "140734071624744\n"
     ]
    }
   ],
   "source": [
    "for i in range(10):\n",
    "    a=i\n",
    "    print(id(a))"
   ]
  },
  {
   "cell_type": "code",
   "execution_count": null,
   "id": "63d8df75-bb72-4788-a52e-fcd141cb0504",
   "metadata": {},
   "outputs": [],
   "source": []
  },
  {
   "cell_type": "code",
   "execution_count": 44,
   "id": "c27f2ea8-fe34-46ef-8d83-b9cb11c41fee",
   "metadata": {},
   "outputs": [
    {
     "name": "stdout",
     "output_type": "stream",
     "text": [
      "1531748994048\n"
     ]
    }
   ],
   "source": [
    "#list address\n",
    "list1=[\"a\",\"b\",1,2,3,5.0]\n",
    "print(id(list1))"
   ]
  },
  {
   "cell_type": "code",
   "execution_count": 48,
   "id": "4b32d18b-62f4-4111-a3a0-6d2b19f6bb55",
   "metadata": {},
   "outputs": [
    {
     "name": "stdout",
     "output_type": "stream",
     "text": [
      "[[1, 2, 3], [4, 5]]\n"
     ]
    }
   ],
   "source": [
    "a=[1,2,3]\n",
    "b=[4,5]\n",
    "c=[a,b]\n",
    "print(c)"
   ]
  },
  {
   "cell_type": "code",
   "execution_count": 53,
   "id": "f07d66a4-5780-43ff-a77a-de4f6374676e",
   "metadata": {},
   "outputs": [
    {
     "data": {
      "text/plain": [
       "(5, 1)"
      ]
     },
     "execution_count": 53,
     "metadata": {},
     "output_type": "execute_result"
    }
   ],
   "source": [
    "c[1][1],c[0][0]"
   ]
  },
  {
   "cell_type": "code",
   "execution_count": 52,
   "id": "4ea4dd55-1ee1-44f2-996d-5d3e399e09b1",
   "metadata": {},
   "outputs": [
    {
     "name": "stdout",
     "output_type": "stream",
     "text": [
      "[1, 2, 3, 1, 2, 3]\n"
     ]
    }
   ],
   "source": [
    "a=a*2\n",
    "print(a)"
   ]
  },
  {
   "cell_type": "code",
   "execution_count": 54,
   "id": "1fdc2979-d793-402e-832d-167018313a02",
   "metadata": {},
   "outputs": [
    {
     "name": "stdout",
     "output_type": "stream",
     "text": [
      "{'name': 'dhwani', 'age': 21}\n"
     ]
    }
   ],
   "source": [
    "dict1={\"name\":\"dhwani\",\"age\":21}\n",
    "print(dict1)"
   ]
  },
  {
   "cell_type": "code",
   "execution_count": 56,
   "id": "ca8d1d43-a090-4be3-b16e-fc717317c9f7",
   "metadata": {},
   "outputs": [
    {
     "data": {
      "text/plain": [
       "'dhwani'"
      ]
     },
     "execution_count": 56,
     "metadata": {},
     "output_type": "execute_result"
    }
   ],
   "source": [
    "dict1[\"name\"]"
   ]
  },
  {
   "cell_type": "code",
   "execution_count": null,
   "id": "6dc98236-aac9-423d-bb69-66d652a347cf",
   "metadata": {},
   "outputs": [],
   "source": []
  },
  {
   "cell_type": "markdown",
   "id": "3490525d-6994-4a26-82b7-54d043cc670f",
   "metadata": {},
   "source": [
    "#### Wap that take a input from user in number form and prints its table"
   ]
  },
  {
   "cell_type": "code",
   "execution_count": 66,
   "id": "5cba637a-8f24-4f17-9751-88eb1aefaa18",
   "metadata": {},
   "outputs": [
    {
     "name": "stdin",
     "output_type": "stream",
     "text": [
      "Enter number:  3\n"
     ]
    },
    {
     "name": "stdout",
     "output_type": "stream",
     "text": [
      " 3 X 1 = 3\n",
      " 3 X 2 = 6\n",
      " 3 X 3 = 9\n",
      " 3 X 4 = 12\n",
      " 3 X 5 = 15\n",
      " 3 X 6 = 18\n",
      " 3 X 7 = 21\n",
      " 3 X 8 = 24\n",
      " 3 X 9 = 27\n",
      " 3 X 10 = 30\n"
     ]
    }
   ],
   "source": [
    "num=int(input(\"Enter number: \"))\n",
    "for i in range(1,11):\n",
    "    print(f\" {num} X {i} = {num*i}\")"
   ]
  },
  {
   "cell_type": "markdown",
   "id": "04a95323-a013-4057-8e4b-3779c01f6db3",
   "metadata": {},
   "source": [
    "#### write a function that give sum,average,minimum an maximum of all the input arguments."
   ]
  },
  {
   "cell_type": "code",
   "execution_count": 72,
   "id": "6acc208e-53b6-4644-b1f4-a93abe4846d8",
   "metadata": {},
   "outputs": [
    {
     "name": "stdin",
     "output_type": "stream",
     "text": [
      "Enter size : 2\n",
      "enter your num :  3\n",
      "enter your num :  1\n"
     ]
    },
    {
     "name": "stdout",
     "output_type": "stream",
     "text": [
      "your list of number :  [3, 1]\n",
      "Sum : 4\n",
      "Average : 2.0\n",
      "Minimun : 1\n",
      "Maximun : 3\n"
     ]
    }
   ],
   "source": [
    "n=int(input(\"Enter size :\"))\n",
    "l1=[]\n",
    "for i in range(n):\n",
    "    num=int(input(\"enter your num : \"))\n",
    "    l1.append(num)\n",
    "print(\"list of number : \",l1)\n",
    "def calc(l):\n",
    "    sums=0\n",
    "    for i in l:\n",
    "        sums=sums+i\n",
    "    average=sums/len(l)\n",
    "    print(\"Sum :\",sums)\n",
    "    print(\"Average :\",average)\n",
    "    print(\"Minimun :\",min(l))\n",
    "    print(\"Maximun :\",max(l))\n",
    "calc(l1)\n",
    "\n"
   ]
  },
  {
   "cell_type": "code",
   "execution_count": null,
   "id": "cc09b0b4-d680-467c-8f03-1fca64d52826",
   "metadata": {},
   "outputs": [],
   "source": []
  },
  {
   "cell_type": "code",
   "execution_count": 73,
   "id": "59738fce-d744-4514-8d54-8cbade3be611",
   "metadata": {},
   "outputs": [],
   "source": [
    "# create a matrix then store it in another varible then multiply the another matrix by any constant number then print both of the matrix"
   ]
  },
  {
   "cell_type": "code",
   "execution_count": 77,
   "id": "3ca0e4df-2acc-4131-8ebe-548b3fe7dc64",
   "metadata": {},
   "outputs": [],
   "source": [
    "matrix1=[[1,2,3],[4,5,6],[7,8,9]]\n",
    "matrix2 = matrix1"
   ]
  },
  {
   "cell_type": "code",
   "execution_count": 78,
   "id": "815fb697-200c-4906-8fbc-22c0b3fe2bbe",
   "metadata": {},
   "outputs": [
    {
     "data": {
      "text/plain": [
       "[[1, 2, 3], [4, 5, 6], [7, 8, 9]]"
      ]
     },
     "execution_count": 78,
     "metadata": {},
     "output_type": "execute_result"
    }
   ],
   "source": [
    "matrix1"
   ]
  },
  {
   "cell_type": "code",
   "execution_count": 83,
   "id": "cbb22e50-602f-47a2-9475-28839f2e06eb",
   "metadata": {},
   "outputs": [
    {
     "name": "stdin",
     "output_type": "stream",
     "text": [
      "Enter number: 3\n"
     ]
    },
    {
     "name": "stdout",
     "output_type": "stream",
     "text": [
      "matrix second :  [[108, 216, 324], [432, 540, 648], [756, 864, 972]]\n",
      "\n",
      "matrix first : [[108, 216, 324], [432, 540, 648], [756, 864, 972]]\n"
     ]
    }
   ],
   "source": [
    "num=int(input(\"Enter number:\"))\n",
    "for i in range(3):\n",
    "    for j in range(3):\n",
    "        matrix2[i][j]=int(matrix2[i][j])*num\n",
    "print(\"matrix second : \" ,matrix2)\n",
    "print()\n",
    "print(\"matrix first :\" ,matrix1)"
   ]
  },
  {
   "cell_type": "code",
   "execution_count": 87,
   "id": "0c027847-cc9f-4ecb-beda-cddd6475bd52",
   "metadata": {},
   "outputs": [
    {
     "name": "stdout",
     "output_type": "stream",
     "text": [
      "108 216 324 432 540 648 756 864 972 "
     ]
    }
   ],
   "source": [
    "for i in range(3):\n",
    "    for j in range(3):\n",
    "        print(matrix2[i][j],end=\" \")"
   ]
  },
  {
   "cell_type": "code",
   "execution_count": null,
   "id": "e9e7704f-3fa7-491d-829f-9a7358cd017c",
   "metadata": {},
   "outputs": [],
   "source": []
  },
  {
   "cell_type": "code",
   "execution_count": null,
   "id": "19194ce5-f709-432d-8280-4b221b4046c4",
   "metadata": {},
   "outputs": [],
   "source": [
    "#copy funcation"
   ]
  },
  {
   "cell_type": "code",
   "execution_count": 89,
   "id": "6ecc1625-01b4-4b35-be91-92a4cc5a4ff1",
   "metadata": {},
   "outputs": [
    {
     "name": "stdout",
     "output_type": "stream",
     "text": [
      "1531748355264\n",
      "1531723259520\n"
     ]
    }
   ],
   "source": [
    "import copy\n",
    "listA=[1,2,3,[4,5]]\n",
    "listB=copy.copy(listA)\n",
    "def showDetails(listA,listB):\n",
    "    listB[1]=6\n",
    "    listB[3][0]=7\n",
    "showDetails(listA,listB)\n",
    "print(id(listA))\n",
    "print(id(listB))"
   ]
  },
  {
   "cell_type": "markdown",
   "id": "4c1af0b7-b6c9-4d46-bc7e-de4296d146d6",
   "metadata": {},
   "source": [
    "#### Write a program to enter add three numbers and return its value"
   ]
  },
  {
   "cell_type": "code",
   "execution_count": 90,
   "id": "2668419d-87ec-45ae-9fa7-b829844a9165",
   "metadata": {},
   "outputs": [
    {
     "name": "stdout",
     "output_type": "stream",
     "text": [
      "result : 15\n"
     ]
    }
   ],
   "source": [
    "def sum(a,b,c):\n",
    "    return a+b+c\n",
    "sum=sum(10,3,2)\n",
    "print(\"result :\",sum)"
   ]
  },
  {
   "cell_type": "code",
   "execution_count": 91,
   "id": "da51cb6b-c905-420d-9ffc-79c2af874521",
   "metadata": {},
   "outputs": [
    {
     "name": "stdout",
     "output_type": "stream",
     "text": [
      "10\n"
     ]
    }
   ],
   "source": [
    "def sum_(a, *args):\n",
    "    res=a\n",
    "    for i in range(0,len(args)):\n",
    "        res=res+args[i]\n",
    "    return res\n",
    "\n",
    "res=sum_(1,2,3,4)\n",
    "print(res)"
   ]
  },
  {
   "cell_type": "code",
   "execution_count": null,
   "id": "8f76c3b4-0c4c-4c22-8854-84087400cd8b",
   "metadata": {},
   "outputs": [],
   "source": []
  }
 ],
 "metadata": {
  "kernelspec": {
   "display_name": "Python 3 (ipykernel)",
   "language": "python",
   "name": "python3"
  },
  "language_info": {
   "codemirror_mode": {
    "name": "ipython",
    "version": 3
   },
   "file_extension": ".py",
   "mimetype": "text/x-python",
   "name": "python",
   "nbconvert_exporter": "python",
   "pygments_lexer": "ipython3",
   "version": "3.11.0"
  }
 },
 "nbformat": 4,
 "nbformat_minor": 5
}
