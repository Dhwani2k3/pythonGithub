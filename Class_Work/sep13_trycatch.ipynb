{
 "cells": [
  {
   "cell_type": "markdown",
   "id": "c6543108-1fb8-4d0d-8a9d-e25923ca892a",
   "metadata": {},
   "source": [
    "### try catch in python for error handling"
   ]
  },
  {
   "cell_type": "code",
   "execution_count": 7,
   "id": "9156ec60-2eb1-4626-a92c-b53c8655515b",
   "metadata": {},
   "outputs": [
    {
     "name": "stdout",
     "output_type": "stream",
     "text": [
      "value of 0\n",
      "value of 0\n"
     ]
    }
   ],
   "source": [
    "a = 0\n",
    "print (f\"value of {a}\")\n",
    "try:\n",
    "    print(f\"value of {a}\")\n",
    "except:\n",
    "    print(\"value of 'a' does not exist\")"
   ]
  },
  {
   "cell_type": "code",
   "execution_count": null,
   "id": "4e11cf2f-20fb-420b-9a5b-37904bb91f7d",
   "metadata": {},
   "outputs": [],
   "source": []
  },
  {
   "cell_type": "code",
   "execution_count": null,
   "id": "9d9cac31-391f-438e-962d-13a42121205a",
   "metadata": {},
   "outputs": [],
   "source": [
    "# using assert with try catch\n",
    "a=10\n",
    "b=5\n",
    "try:\n",
    "    assert a<b\n",
    "    print(\"Assertion is True\")\n",
    "except:\n",
    "    print(\"Assertion is False\")"
   ]
  },
  {
   "cell_type": "code",
   "execution_count": null,
   "id": "561e6810-5cd1-4ba0-b3fe-034814461ad6",
   "metadata": {},
   "outputs": [],
   "source": []
  },
  {
   "cell_type": "code",
   "execution_count": 3,
   "id": "9499fd6b-d664-4aad-8af1-9dd9d99242f7",
   "metadata": {},
   "outputs": [
    {
     "name": "stdin",
     "output_type": "stream",
     "text": [
      "Enter number 1: 1\n",
      "Enter number 2: 2\n"
     ]
    },
    {
     "name": "stdout",
     "output_type": "stream",
     "text": [
      "Division of 1/2 is 0.5\n"
     ]
    }
   ],
   "source": [
    "# WAP that takes two values from user and returns division of first from second\n",
    "num1=int(input(\"Enter number 1:\"))\n",
    "num2=int(input(\"Enter number 2:\"))\n",
    "def div(a,b):\n",
    "    assert b!=0\n",
    "    return a/b\n",
    "try:\n",
    "    print(f\"Division of {num1}/{num2} is {div(num1,num2)}\")\n",
    "except:\n",
    "    print(\"Does not divide by zero\")\n"
   ]
  }
 ],
 "metadata": {
  "kernelspec": {
   "display_name": "Python 3 (ipykernel)",
   "language": "python",
   "name": "python3"
  },
  "language_info": {
   "codemirror_mode": {
    "name": "ipython",
    "version": 3
   },
   "file_extension": ".py",
   "mimetype": "text/x-python",
   "name": "python",
   "nbconvert_exporter": "python",
   "pygments_lexer": "ipython3",
   "version": "3.11.0"
  }
 },
 "nbformat": 4,
 "nbformat_minor": 5
}
