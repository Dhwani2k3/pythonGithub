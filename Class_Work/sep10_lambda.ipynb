{
 "cells": [
  {
   "cell_type": "code",
   "execution_count": 1,
   "id": "75633304-a265-45e3-a81b-341542fbdb25",
   "metadata": {},
   "outputs": [],
   "source": [
    "# lamba , map , filter list comprehension\n"
   ]
  },
  {
   "cell_type": "code",
   "execution_count": 1,
   "id": "637ae6ed-0bb7-48df-b5eb-67ff5db57e54",
   "metadata": {},
   "outputs": [
    {
     "name": "stdout",
     "output_type": "stream",
     "text": [
      "30\n"
     ]
    }
   ],
   "source": [
    "# function to add two variable\n",
    "def add_(a,b):\n",
    "    res=a+b\n",
    "    return res \n",
    "a=10\n",
    "b=20\n",
    "sum_=add_(a,b)\n",
    "print(sum_)"
   ]
  },
  {
   "cell_type": "code",
   "execution_count": 3,
   "id": "f9b9ec63-66f4-4fd9-93d5-132fdc190b39",
   "metadata": {},
   "outputs": [
    {
     "name": "stdout",
     "output_type": "stream",
     "text": [
      "5\n"
     ]
    }
   ],
   "source": [
    "add=lambda a,b: a+b\n",
    "print(add(2,3))"
   ]
  },
  {
   "cell_type": "code",
   "execution_count": 25,
   "id": "e2542bd8-bab9-4dad-b6c1-ea1cbdfce7d5",
   "metadata": {},
   "outputs": [
    {
     "name": "stdout",
     "output_type": "stream",
     "text": [
      "[1, 4, 9, 16, 25]\n"
     ]
    }
   ],
   "source": [
    "# squaring numbers\n",
    "\n",
    "number=[1,2,3,4,5]\n",
    "sq=map(lambda x: x*x, number)\n",
    "sq=list(sq)\n",
    "print(list(sq))"
   ]
  },
  {
   "cell_type": "code",
   "execution_count": null,
   "id": "3fbf5cbc-848c-4308-b596-3754e3f9dd50",
   "metadata": {},
   "outputs": [],
   "source": [
    "#checking even numbers \n",
    "even  = filter(lambda x: x % 2 == 0,sq)\n",
    "print(list(even))\n"
   ]
  },
  {
   "cell_type": "code",
   "execution_count": 26,
   "id": "518d8db1-2222-4616-959d-5f8e19e4da4c",
   "metadata": {},
   "outputs": [
    {
     "name": "stdout",
     "output_type": "stream",
     "text": [
      "6\n"
     ]
    }
   ],
   "source": [
    "#multiplication \n",
    "mul=lambda a,b: a*b\n",
    "print(mul(2,3))"
   ]
  },
  {
   "cell_type": "code",
   "execution_count": null,
   "id": "59af13e1-9aa1-4d71-8e72-7f8909def44a",
   "metadata": {},
   "outputs": [],
   "source": []
  },
  {
   "cell_type": "code",
   "execution_count": 8,
   "id": "cb54d098-f198-400d-8e81-a463664bb7ed",
   "metadata": {},
   "outputs": [
    {
     "name": "stdout",
     "output_type": "stream",
     "text": [
      "[0, 1, 4, 9, 16]\n"
     ]
    }
   ],
   "source": [
    "#wap to square each number without using lambda\n",
    "sql=[]\n",
    "for i in range(5):\n",
    "    sq=i**2\n",
    "    sql.append(sq)\n",
    "print(sql)"
   ]
  },
  {
   "cell_type": "code",
   "execution_count": null,
   "id": "9ccac5c3-225c-47fa-8b8e-43116caa1e90",
   "metadata": {},
   "outputs": [],
   "source": [
    "# squaring without lambda function and then checking even\n",
    "def squares():\n",
    "    a=[1,2,3,4]\n",
    "    for i in range(4):\n",
    "        a[i]=a[i]*a[i]\n",
    "    return a\n",
    "sq=squares()\n",
    "fl=filter(lambda x: x%2==0,sq)\n",
    "print(list(fl))"
   ]
  },
  {
   "cell_type": "code",
   "execution_count": null,
   "id": "f84264e8-a895-4612-9357-a1e1597cf2aa",
   "metadata": {},
   "outputs": [],
   "source": []
  },
  {
   "cell_type": "code",
   "execution_count": 9,
   "id": "a0eedc9b-0478-47a6-ba87-ce1fa8313e12",
   "metadata": {},
   "outputs": [
    {
     "name": "stdout",
     "output_type": "stream",
     "text": [
      "[0, 4, 16, 36, 64]\n"
     ]
    }
   ],
   "source": [
    "#wap to create a list of squares of even numbers from 0 to 9\n",
    "sql=[]\n",
    "for i in range(10):\n",
    "    if (i%2==0):\n",
    "        sq=i**2\n",
    "        sql.append(sq)\n",
    "    \n",
    "print(sql)"
   ]
  },
  {
   "cell_type": "code",
   "execution_count": null,
   "id": "76e7d598-5578-4353-b593-d1bf528f75ac",
   "metadata": {},
   "outputs": [],
   "source": [
    "#list comprehension"
   ]
  },
  {
   "cell_type": "code",
   "execution_count": 28,
   "id": "ca3a7666-f88a-4802-bcc2-faa11462ce43",
   "metadata": {},
   "outputs": [
    {
     "name": "stdout",
     "output_type": "stream",
     "text": [
      "[0, 4, 16, 36, 64]\n"
     ]
    }
   ],
   "source": [
    "square = [i ** 2 for i in range(10) if i % 2 == 0]\n",
    "print(square)"
   ]
  },
  {
   "cell_type": "code",
   "execution_count": 11,
   "id": "eae9842c-417c-4835-a6a9-6d8eff05bdfc",
   "metadata": {},
   "outputs": [
    {
     "data": {
      "text/plain": [
       "['123@stu.upes.ac.in', '1234@stu.upes.ac.in', '12345@stu.upes.ac.in']"
      ]
     },
     "execution_count": 11,
     "metadata": {},
     "output_type": "execute_result"
    }
   ],
   "source": [
    "#write a program that takes a list contains sap id and returns a list of email address\n",
    "sap=[123,1234,12345]\n",
    "emails=[f\"{i}@stu.upes.ac.in\" for i in sap ]\n",
    "emails"
   ]
  },
  {
   "cell_type": "code",
   "execution_count": 30,
   "id": "02e048a4-7133-42ab-9e06-1a989f90d1b7",
   "metadata": {},
   "outputs": [],
   "source": [
    "sapids=[123,234234,345345,4545]\n",
    "\n",
    "#using function\n",
    "def id2email(id):\n",
    "    return f\"{id}@stu.upes.ac.in\"\n",
    "emails=[]\n",
    "\n",
    "for id in sapids:\n",
    "    email=id2email(id)\n",
    "    emails.append(email)\n",
    "list_of_emails=emails\n",
    "emails\n",
    "\n",
    "#another method by using map\n",
    "list_of_emails=list(map(id2email,sapids))\n",
    "list_of_emails\n",
    "\n",
    "#using map and lambda\n",
    "list_of_emails=list(map(lambda id: str(id)+\"@stu.upes.ac.in\",sapids))\n",
    "list_of_emails\n",
    "\n",
    "#using list comprehension\n",
    "list_of_emails= [f\"{id} @stu.upes.ac.in\" for id in sapids]\n",
    "list_of_emails"
   ]
  },
  {
   "cell_type": "code",
   "execution_count": null,
   "id": "c8601b93-3207-4aac-8792-61e21228cb94",
   "metadata": {},
   "outputs": [],
   "source": []
  },
  {
   "cell_type": "code",
   "execution_count": 31,
   "id": "ab584303-8c57-4ff7-957c-e1545d1394f5",
   "metadata": {},
   "outputs": [
    {
     "name": "stdout",
     "output_type": "stream",
     "text": [
      "Current time: Wed Sep 18 22:26:48 2024\n",
      "Current time: Wed Sep 18 22:26:48 2024\n",
      "Current time: Wed Sep 18 22:26:50 2024\n",
      "Current time: Wed Sep 18 22:26:50 2024\n"
     ]
    }
   ],
   "source": [
    "#WAP to print current time then sleep for few seconds and again print current time\n",
    "#import time\n",
    "#while True:\n",
    "    #print(time.ctime())\n",
    "    #time.sleep(2)\n",
    "import time \n",
    "def showtime():\n",
    "    curr=time.ctime()\n",
    "    print(\"Current time:\", curr)\n",
    "    time.sleep(2)\n",
    "    print(\"Current time:\", curr)\n",
    "showtime()\n",
    "showtime()"
   ]
  },
  {
   "cell_type": "code",
   "execution_count": 13,
   "id": "9587e477-8f50-4fd9-8e84-525dbea687d8",
   "metadata": {},
   "outputs": [],
   "source": [
    "#import time\n",
    "#help(time)"
   ]
  },
  {
   "cell_type": "code",
   "execution_count": 8,
   "id": "8c130c9c-b43d-431a-965b-65f2e72f4a8a",
   "metadata": {},
   "outputs": [],
   "source": [
    "# wap that takes email address and message from user and using smtp library send that message\n",
    "# to all the email address"
   ]
  }
 ],
 "metadata": {
  "kernelspec": {
   "display_name": "Python 3 (ipykernel)",
   "language": "python",
   "name": "python3"
  },
  "language_info": {
   "codemirror_mode": {
    "name": "ipython",
    "version": 3
   },
   "file_extension": ".py",
   "mimetype": "text/x-python",
   "name": "python",
   "nbconvert_exporter": "python",
   "pygments_lexer": "ipython3",
   "version": "3.11.0"
  }
 },
 "nbformat": 4,
 "nbformat_minor": 5
}
