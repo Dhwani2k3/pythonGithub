{
 "cells": [
  {
   "cell_type": "markdown",
   "id": "f630b8c7-b84a-4d19-a3c5-08bddaa940c3",
   "metadata": {},
   "source": [
    "# sep 4 , 2024"
   ]
  },
  {
   "cell_type": "markdown",
   "id": "db12b5fa-2fb2-4790-84c7-612ef3beb617",
   "metadata": {},
   "source": [
    "write a function that takes  variable as an input and returns its sum, cumulative sum, average, minimum, and maximum value using for loop define function documentation using doc string and show its users"
   ]
  },
  {
   "cell_type": "code",
   "execution_count": 1,
   "id": "ea2c93f1-abf9-436a-8743-7da3a288f214",
   "metadata": {},
   "outputs": [
    {
     "name": "stdin",
     "output_type": "stream",
     "text": [
      "enter size of list :  5\n",
      "enter the numbers :  2\n",
      "enter the numbers :  3\n",
      "enter the numbers :  4\n",
      "enter the numbers :  5\n",
      "enter the numbers :  6\n"
     ]
    },
    {
     "name": "stdout",
     "output_type": "stream",
     "text": [
      "\n",
      "Sum :  20\n",
      "Average :  4.0\n",
      "Cumulative Sum :  [2, 5, 9, 14, 20]\n",
      "Maximum Number :  6\n",
      "Manimum Number :  2\n"
     ]
    }
   ],
   "source": [
    "size=int(input(\"enter size of list : \"))\n",
    "def input_value(): \n",
    "    list1=[]\n",
    "    for i in range(size):\n",
    "        no=int(input(\"enter the numbers : \"))\n",
    "        list1.append(no)\n",
    "    return list1\n",
    "    \n",
    "def cal(list1):\n",
    "    list2=[]\n",
    "    sum_=0\n",
    "    for i in list1:\n",
    "        sum_=sum_+i\n",
    "        list2.append(sum_)\n",
    "    \n",
    "    csum=list2\n",
    "    av=sum_/size\n",
    "    print()\n",
    "    print(\"Sum : \",sum_)\n",
    "    print(\"Average : \",av)\n",
    "    print(\"Cumulative Sum : \",csum)\n",
    "    print(\"Maximum Number : \",max(list1))\n",
    "    print(\"Manimum Number : \",min(list1))\n",
    "\n",
    "list11=input_value()\n",
    "cal(list11)"
   ]
  },
  {
   "cell_type": "code",
   "execution_count": 3,
   "id": "48bf9c24-680b-4542-92c5-497a3a04c599",
   "metadata": {},
   "outputs": [
    {
     "name": "stdin",
     "output_type": "stream",
     "text": [
      "do u want to start (y/n) :  y\n",
      "enter a number :  5\n",
      "do u want to continue (y/n) :  y\n",
      "enter a number :  7\n",
      "do u want to continue (y/n) :  n\n"
     ]
    },
    {
     "name": "stdout",
     "output_type": "stream",
     "text": [
      "you are out of the loop\n",
      "list :  [5, 7]\n"
     ]
    }
   ],
   "source": [
    "ch=input(\"do u want to start (y/n) : \")\n",
    "def func(choice):\n",
    "    list_=[]\n",
    "    while(True):\n",
    "        if (choice==\"y\"):\n",
    "            num=int(input(\"enter a number : \"))\n",
    "            list_.append(num)\n",
    "            choice=input(\"do u want to continue (y/n) : \")\n",
    "        else:\n",
    "            print(\"you are out of the loop\")\n",
    "            break\n",
    "    return list_\n",
    "fl=func(ch) \n",
    "print(\"list : \",fl)      \n",
    "        "
   ]
  },
  {
   "cell_type": "code",
   "execution_count": null,
   "id": "75b4f393-ccd8-41e2-aa1e-994b54bc4ad2",
   "metadata": {},
   "outputs": [],
   "source": []
  },
  {
   "cell_type": "code",
   "execution_count": 4,
   "id": "361bade5-b2c4-4a53-8dfa-169bff8f636b",
   "metadata": {},
   "outputs": [
    {
     "name": "stdout",
     "output_type": "stream",
     "text": [
      "Not a list type \n",
      "\n",
      "Sum :  21\n",
      "Average :  5.25\n",
      "Cumulative Sum :  [1, 8, 12, 21]\n",
      "Maximum Number :  9\n",
      "Manimum Number :  1\n"
     ]
    }
   ],
   "source": [
    "def cal(list1):\n",
    "    size=len(list1)\n",
    "    list2=[]\n",
    "    sum_=0\n",
    "    for i in list1:\n",
    "        sum_=sum_+i\n",
    "        list2.append(sum_)\n",
    "    \n",
    "    csum=list2\n",
    "    av=sum_/size\n",
    "    print()\n",
    "    print(\"Sum : \",sum_)\n",
    "    print(\"Average : \",av)\n",
    "    print(\"Cumulative Sum : \",csum)\n",
    "    print(\"Maximum Number : \",max(list1))\n",
    "    print(\"Manimum Number : \",min(list1))\n",
    "\n",
    "list1=(1,2,3,40)\n",
    "list2=[1,7,4,9]\n",
    "if (type(list1) is not list):\n",
    "    print(\"Not a list type \")\n",
    "else:\n",
    "    cal(list1)\n",
    "    \n",
    "if (type(list2) is not list):\n",
    "    print(\"Not a list type \")\n",
    "else:\n",
    "    cal(list2)\n"
   ]
  },
  {
   "cell_type": "code",
   "execution_count": null,
   "id": "810f6f2f-a3d0-4911-9218-be427878e9ad",
   "metadata": {},
   "outputs": [],
   "source": []
  }
 ],
 "metadata": {
  "kernelspec": {
   "display_name": "Python 3 (ipykernel)",
   "language": "python",
   "name": "python3"
  },
  "language_info": {
   "codemirror_mode": {
    "name": "ipython",
    "version": 3
   },
   "file_extension": ".py",
   "mimetype": "text/x-python",
   "name": "python",
   "nbconvert_exporter": "python",
   "pygments_lexer": "ipython3",
   "version": "3.11.0"
  }
 },
 "nbformat": 4,
 "nbformat_minor": 5
}
