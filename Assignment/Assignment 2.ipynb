{
 "cells": [
  {
   "cell_type": "markdown",
   "id": "70ae099b-b13c-4134-9257-48cdb57be485",
   "metadata": {},
   "source": [
    "### Assignment 2"
   ]
  },
  {
   "cell_type": "code",
   "execution_count": 1,
   "id": "f6688e0d-6eff-4f60-8a72-494a47ffbac6",
   "metadata": {},
   "outputs": [
    {
     "name": "stdout",
     "output_type": "stream",
     "text": [
      "Hello, Dhwani!\n",
      "Morning, Dhwani!\n"
     ]
    }
   ],
   "source": [
    "#Ques1 Write a function greet that takes two arguments: name (a string) and greeting \n",
    "#(a string with a default value of \"Hello\").The func should return a greeting message.\n",
    "\n",
    "def greet(name,greeting=\"Hello\"):\n",
    "    return f\"{greeting}, {name}!\"   \n",
    "\n",
    "str1=greet(\"Dhwani\")\n",
    "print(str1)\n",
    "str1=greet(\"Dhwani\",\"Morning\")\n",
    "print(str1)"
   ]
  },
  {
   "cell_type": "code",
   "execution_count": null,
   "id": "e620cf90-51b1-4bbe-8d49-5bb92fa136f2",
   "metadata": {},
   "outputs": [],
   "source": []
  },
  {
   "cell_type": "code",
   "execution_count": 2,
   "id": "6f051f51-c051-48d9-a9e9-85e09ce880e6",
   "metadata": {},
   "outputs": [
    {
     "name": "stdout",
     "output_type": "stream",
     "text": [
      "Dhwani, 18, Delhi\n",
      "Dhwani, 21, New Delhi\n"
     ]
    }
   ],
   "source": [
    "#Ques2 Create a func create_profile that takes arguments for name,age & city as named \n",
    "#argument.The func should return a string like \"Name: Alice, Age: 25, City: New York\" \n",
    "#Ensure that the age argument has a default value of 18.\n",
    "\n",
    "def create_profile(name,city,age=18):\n",
    "    return f\"{name}, {age}, {city}\"\n",
    "\n",
    "print(create_profile(name=\"Dhwani\", city=\"Delhi\"))         \n",
    "print(create_profile(name=\"Dhwani\", age=21, city=\"New Delhi\"))\n"
   ]
  },
  {
   "cell_type": "code",
   "execution_count": null,
   "id": "0e47c32b-ece7-4a7c-a563-4c3e5b335193",
   "metadata": {},
   "outputs": [],
   "source": []
  },
  {
   "cell_type": "code",
   "execution_count": 3,
   "id": "f1e3c743-12d6-49f6-aa10-f6f1146b4adb",
   "metadata": {},
   "outputs": [
    {
     "name": "stdout",
     "output_type": "stream",
     "text": [
      "Sum of numbers: 68\n",
      "Keyword arguments: {'name': 'Dhwani', 'sname': 'Gupta', 'g': 12, 'd': 21, 'v': 28, 'a': 7}\n",
      "Sum of numbers: 2441\n",
      "Keyword arguments: {'season': 'Autumn', 'fav': 'Winters'}\n"
     ]
    }
   ],
   "source": [
    "#Ques3 Waf sum_numbers that takes any number of positional arguments (args) and \n",
    "# keyword arguments (*kwargs). It should:\n",
    "    # Return the sum of all *args if they are numbers.\n",
    "    # Return a dictionary of all keyword arguments.\n",
    "\n",
    "def sum_numbers(*args,**kwargs):\n",
    "    sum_=0\n",
    "    for num in args:\n",
    "        if (isinstance(num,(int,float))):\n",
    "            sum_+=num\n",
    "    return sum_,kwargs\n",
    "sum_,kwdict= sum_numbers(\"Morning\",12,21,28,7,name=\"Dhwani\",sname=\"Gupta\",g=12,d=21,v=28,a=7)\n",
    "print(\"Sum of numbers:\", sum_)      \n",
    "print(\"Keyword arguments:\", kwdict)\n",
    "sum_,kwdict= sum_numbers(\"Summer\",\"Rainy\",365,2024,52,season=\"Autumn\",fav=\"Winters\")\n",
    "print(\"Sum of numbers:\", sum_)      \n",
    "print(\"Keyword arguments:\", kwdict)"
   ]
  },
  {
   "cell_type": "code",
   "execution_count": null,
   "id": "26c88ef3-aa24-494d-861e-5b7d9554e9bf",
   "metadata": {},
   "outputs": [],
   "source": []
  },
  {
   "cell_type": "code",
   "execution_count": 4,
   "id": "da251f10-2fbd-4335-97ed-6393ad486e31",
   "metadata": {},
   "outputs": [
    {
     "name": "stdin",
     "output_type": "stream",
     "text": [
      "Enter size of list :  5\n",
      "Enter 1th element: 9\n",
      "Enter 2th element: 8\n",
      "Enter 3th element: 7\n",
      "Enter 4th element: 6\n",
      "Enter 5th element: 5\n"
     ]
    },
    {
     "name": "stdout",
     "output_type": "stream",
     "text": [
      "\n",
      "List after squaring :  [81, 64, 49, 36, 25]\n"
     ]
    }
   ],
   "source": [
    "#Ques4 Waf that uses `map`& lambda to return a list where each element is squared.\n",
    "\n",
    "list_=[]\n",
    "def squaring(list_):\n",
    "    sq=map(lambda x:x*x,list_)\n",
    "    return sq\n",
    "size=int(input(\"Enter size of list : \"))\n",
    "for i in range(size):\n",
    "    num=int(input(f\"Enter {i+1}th element:\"))\n",
    "    list_.append(num)\n",
    "print()\n",
    "print(\"List after squaring : \",list(squaring(list_)))"
   ]
  },
  {
   "cell_type": "code",
   "execution_count": 5,
   "id": "e09439a3-034e-4894-8734-d97c959a0ded",
   "metadata": {},
   "outputs": [
    {
     "name": "stdin",
     "output_type": "stream",
     "text": [
      "Enter size of list: 5\n",
      "Enter 1th element: 1\n",
      "Enter 2th element: 2\n",
      "Enter 3th element: 3\n",
      "Enter 4th element: 4\n",
      "Enter 5th element: 5\n"
     ]
    },
    {
     "name": "stdout",
     "output_type": "stream",
     "text": [
      "\n",
      "List after removing even no.s & returning odd number :  [1, 3, 5]\n"
     ]
    }
   ],
   "source": [
    "#Ques5 Waf that filters out all odd numbers from a list using `filter` & lambda func\n",
    "\n",
    "list_=[]\n",
    "def oddnum(list_):\n",
    "    odd=filter(lambda x:x%2!=0,list_)\n",
    "    return odd\n",
    "size=int(input(\"Enter size of list:\"))\n",
    "for i in range(size):\n",
    "    num=int(input(f\"Enter {i+1}th element:\"))\n",
    "    list_.append(num)\n",
    "print()\n",
    "print(\"List after removing even no.s & returning odd number : \",list(oddnum(list_)))\n",
    "\n"
   ]
  },
  {
   "cell_type": "code",
   "execution_count": null,
   "id": "14131394-c566-4e2f-bd66-fd0b50333dc1",
   "metadata": {},
   "outputs": [],
   "source": []
  },
  {
   "cell_type": "code",
   "execution_count": 6,
   "id": "f8b07b2d-1919-4c55-ac5a-1be3260443ee",
   "metadata": {},
   "outputs": [
    {
     "name": "stdin",
     "output_type": "stream",
     "text": [
      "Enter size of list: 4\n",
      "Enter 1th element: 2\n",
      "Enter 2th element: 4\n",
      "Enter 3th element: 6\n",
      "Enter 4th element: 8\n"
     ]
    },
    {
     "name": "stdout",
     "output_type": "stream",
     "text": [
      "\n",
      "List after squaring :  [4, 16, 36, 64]\n"
     ]
    }
   ],
   "source": [
    "#Ques6 Create a list Comprehension that take list of no.s & return list of their sq's\n",
    "list_=[]\n",
    "def squaring(list_):\n",
    "    sq = [i ** 2 for i in list_]\n",
    "    return sq\n",
    "size=int(input(\"Enter size of list:\"))\n",
    "for i in range(size):\n",
    "    num=int(input(f\"Enter {i+1}th element:\"))\n",
    "    list_.append(num)\n",
    "print()\n",
    "print(\"List after squaring : \",list(squaring(list_)))"
   ]
  },
  {
   "cell_type": "code",
   "execution_count": null,
   "id": "bd73271f-1a47-4de0-a2b6-e670d41863d5",
   "metadata": {},
   "outputs": [],
   "source": []
  },
  {
   "cell_type": "code",
   "execution_count": 7,
   "id": "22177ec8-0585-489c-97e2-491ace6281c7",
   "metadata": {},
   "outputs": [
    {
     "name": "stdout",
     "output_type": "stream",
     "text": [
      "Even numbers :  [2, 4, 6, 8, 10, 12, 14, 16, 18, 20]\n"
     ]
    }
   ],
   "source": [
    "#Ques7 Use a list comprehension to create a list of even numbers from 1 to 20.\n",
    "\n",
    "def even():\n",
    "    enum = [i for i in range(1,21) if i % 2 == 0]\n",
    "    return enum\n",
    "\n",
    "print(\"Even numbers : \",list(even()))"
   ]
  },
  {
   "cell_type": "code",
   "execution_count": null,
   "id": "7354d1a9-458d-4900-b882-3f414f11f5a6",
   "metadata": {},
   "outputs": [],
   "source": []
  },
  {
   "cell_type": "code",
   "execution_count": 8,
   "id": "b6e34d68-3619-4aca-a638-4ea8cdce04c3",
   "metadata": {},
   "outputs": [
    {
     "name": "stdout",
     "output_type": "stream",
     "text": [
      "Folder Created\n",
      " Time before sleep : 1727713590.329741\n",
      " Time after sleep : 1727713593.3300216.\n",
      "Folder Deleted\n",
      "Execution Time with sleep :  3.0002806186676025\n"
     ]
    }
   ],
   "source": [
    "#Ques8 Waf `file_operations` that creates a directory named \"test_folder\" using \n",
    "# `os.makedirs()`. Then, pause the execution for 3 seconds using `time.sleep()`\n",
    "#  and finally, delete the directory using `os.rmdir()`.\n",
    "\n",
    "import os\n",
    "import time\n",
    "def file_operations():\n",
    "    os.makedirs(\"./test_folder\")\n",
    "    print(\"Folder Created\")\n",
    "    start=time.time()\n",
    "    #start=int(startTime)\n",
    "    print(f\" Time before sleep : {start}\")\n",
    "    time.sleep(3)\n",
    "    end=time.time()\n",
    "    #end=int(end)\n",
    "    print(f\" Time after sleep : {end}.\")\n",
    "    os.rmdir(\"./test_folder\")\n",
    "    print(\"Folder Deleted\")\n",
    "    print(\"Execution Time with sleep : \",end-start)\n",
    "file_operations()"
   ]
  },
  {
   "cell_type": "code",
   "execution_count": null,
   "id": "3b04a3c3-fe64-499a-a985-c188c44f4027",
   "metadata": {},
   "outputs": [],
   "source": []
  },
  {
   "cell_type": "code",
   "execution_count": 9,
   "id": "287cf3ec-5b5b-4ddc-a5d1-84e8cccb9c23",
   "metadata": {},
   "outputs": [
    {
     "name": "stdout",
     "output_type": "stream",
     "text": [
      "Hello World !! \n",
      "Paused execution for 2 seconds\n",
      "Resumed execution for 2 seconds\n",
      "Good Morning ! \n",
      "Paused execution for 2 seconds\n",
      "Resumed execution for 2 seconds\n"
     ]
    }
   ],
   "source": [
    "#Ques9 Write a PythonScript that imports only `sleep` from the `time` module & renames it \n",
    "# to `pause`.Use it to pause execution for 2 seconds & print \"Paused execution...\"\n",
    "\n",
    "from time import sleep as pause\n",
    "print(\"Hello World !! \")\n",
    "print(\"Paused execution for 2 seconds\")\n",
    "pause(3)\n",
    "print(\"Resumed execution for 2 seconds\")\n",
    "\n",
    "print(\"Good Morning ! \")\n",
    "print(\"Paused execution for 2 seconds\")\n",
    "pause(3)\n",
    "print(\"Resumed execution for 2 seconds\")"
   ]
  },
  {
   "cell_type": "code",
   "execution_count": null,
   "id": "a29c2542-fcf2-4b89-ae39-53bcb300f0c6",
   "metadata": {},
   "outputs": [],
   "source": []
  },
  {
   "cell_type": "code",
   "execution_count": 10,
   "id": "156422dc-a525-4956-9857-f3c366af3911",
   "metadata": {},
   "outputs": [
    {
     "name": "stdout",
     "output_type": "stream",
     "text": [
      "Flattened List: [1, 2, 3, 4, 5, 6, 7, 8, 9, 10]\n"
     ]
    }
   ],
   "source": [
    "#Ques10 Write a recursive function `flatten_list` that can flatten a nested list of any \n",
    "# depth using *args and **kwargs.\n",
    "\n",
    "def flatten_list(nested_list):\n",
    "    flat_list = []\n",
    "    for item in nested_list:\n",
    "        if isinstance(item, list):\n",
    "            flat_list.extend(flatten_list(item))\n",
    "        else:\n",
    "            flat_list.append(item)\n",
    "    return flat_list\n",
    "nested = [1, [2,3], 4, [[5, 6,], 7, 8],9,[10]]\n",
    "flattened = flatten_list(nested)\n",
    "print(\"Flattened List:\", flattened)"
   ]
  },
  {
   "cell_type": "code",
   "execution_count": null,
   "id": "cb91d700-07d3-4df5-a1ad-c3e305ed39db",
   "metadata": {},
   "outputs": [],
   "source": []
  }
 ],
 "metadata": {
  "kernelspec": {
   "display_name": "Python 3 (ipykernel)",
   "language": "python",
   "name": "python3"
  },
  "language_info": {
   "codemirror_mode": {
    "name": "ipython",
    "version": 3
   },
   "file_extension": ".py",
   "mimetype": "text/x-python",
   "name": "python",
   "nbconvert_exporter": "python",
   "pygments_lexer": "ipython3",
   "version": "3.11.0"
  }
 },
 "nbformat": 4,
 "nbformat_minor": 5
}
