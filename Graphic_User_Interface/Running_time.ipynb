{
 "cells": [
  {
   "cell_type": "code",
   "execution_count": 1,
   "id": "336b0219-4464-4e99-a985-a3252411d7df",
   "metadata": {},
   "outputs": [],
   "source": [
    "# wap to estimate runtime of all the functions you have used so far."
   ]
  },
  {
   "cell_type": "code",
   "execution_count": null,
   "id": "506deed1-1d3a-40c8-9b93-de1bc0bf4c62",
   "metadata": {},
   "outputs": [],
   "source": []
  },
  {
   "cell_type": "code",
   "execution_count": 2,
   "id": "86892b8a-0036-4be0-8123-e44e96fa0b84",
   "metadata": {},
   "outputs": [
    {
     "name": "stdout",
     "output_type": "stream",
     "text": [
      "before function calling :  Wed Sep 25 15:53:31 2024\n",
      "user input: hello\n",
      "after calling function :  Wed Sep 25 15:53:38 2024\n"
     ]
    }
   ],
   "source": [
    "import time\n",
    "from Graphic_User_Interface.printlable import printlable\n",
    "#from Graphic_User_Interface.main import mainorganiser\n",
    "#from Graphic_User_Interface.importfile import organize_files\n",
    "\n",
    "\n",
    "t=time.ctime()\n",
    "print(\"before function calling : \",t)\n",
    "printlable()\n",
    "#mainorganiser()\n",
    "#organize_files(directory)\n",
    "t=time.ctime()\n",
    "print(\"after calling function : \",t)\n"
   ]
  },
  {
   "cell_type": "code",
   "execution_count": null,
   "id": "4d89aeb9-a916-4590-b707-9f953effc754",
   "metadata": {},
   "outputs": [],
   "source": []
  },
  {
   "cell_type": "code",
   "execution_count": null,
   "id": "5cdf578a-d8dc-4256-bafb-384a2b22047b",
   "metadata": {},
   "outputs": [],
   "source": [
    "# modify all your previous functions to print thier execution time.  -- not to do..\n",
    "\n",
    "# create a presentation to explain usage of passing function as arguments to modify using wrapper function."
   ]
  },
  {
   "cell_type": "markdown",
   "id": "39a25384-8e3a-4dd4-99ae-2bb8b38da326",
   "metadata": {},
   "source": [
    "### 4 oct 2024"
   ]
  },
  {
   "cell_type": "code",
   "execution_count": null,
   "id": "778ede69-74cc-47f8-b542-5d178989e51a",
   "metadata": {},
   "outputs": [],
   "source": [
    "# write a function that takes one input parameter (0) and evaluates an expression a=n*10 for all values between 0 to n\n",
    "\n",
    "import time\n",
    "n = 10000000\n",
    "def testfn(n):\n",
    "    for i in range (0,n):\n",
    "        a = i*10\n",
    "# estimate execution time of this function for n\n",
    "\n",
    "startTime = time.time()\n",
    "print(startTime)\n",
    "testfn(n)\n",
    "endTime = time.time()\n",
    "print(endTime)\n",
    "print(f\"for n = {n} execution time is {endTime-startTime} seconds\")"
   ]
  },
  {
   "cell_type": "code",
   "execution_count": null,
   "id": "e24a62d3-884c-4ed5-8c7b-ba8985b086ef",
   "metadata": {},
   "outputs": [],
   "source": []
  },
  {
   "cell_type": "code",
   "execution_count": null,
   "id": "8fe554c4-0dff-468d-8a61-b29f8aa1a2a3",
   "metadata": {},
   "outputs": [],
   "source": [
    "# write a function that takes one input parameter (0) and evaluates an expression a=n*10 for all values between 0 to n\n",
    "\n",
    "import time\n",
    "ns = [1234243,12342345,46785687,3456567]\n",
    "#n = 10000000\n",
    "\n",
    "def testfn(n):\n",
    "    for i in range (0,n):\n",
    "        a = i*10\n",
    "# estimate execution time of this function for n\n",
    "\n",
    "def wrapper(func, *args, **kwargs):\n",
    "    def wrapped( *args, **kwargs):\n",
    "        \n",
    "        startTime = time.time()\n",
    "        func(*args, **kwargs)\n",
    "\n",
    "        endTime = time.time()\n",
    "        print(f\"for n = {n} execution time is {endTime-startTime} seconds\")\n",
    "    wrapped (*args, **kwargs)\n",
    "    return wrapped\n",
    "\n",
    "n = 100000\n",
    "wrapped_fn = wrapper(testfn, n)\n",
    "\n",
    "wrapped_fn(n)"
   ]
  },
  {
   "cell_type": "code",
   "execution_count": null,
   "id": "933399bf-f5ac-4c82-8431-b20b19f5c07c",
   "metadata": {},
   "outputs": [],
   "source": []
  },
  {
   "cell_type": "code",
   "execution_count": null,
   "id": "bddd9ae9-4070-4116-96a7-3d8befe62a28",
   "metadata": {},
   "outputs": [],
   "source": [
    "import time\n",
    "\n",
    "# List of sample n values for testing\n",
    "ns = [1234243, 12342345, 46785687, 3456567]\n",
    "\n",
    "def testfn(n):\n",
    "    \"\"\"Function to evaluate an expression for all values between 0 and n.\"\"\"\n",
    "    for i in range(0, n):\n",
    "        a = i * 10  # Example calculation (you can modify this as needed)\n",
    "\n",
    "def wrapper(func):\n",
    "    \"\"\"Decorator to measure the execution time of a function.\"\"\"\n",
    "    def wrapped(*args, **kwargs):  # Accepting *args and **kwargs\n",
    "        start_time = time.time()  # Start time measurement\n",
    "        func(*args, **kwargs)      # Call the original function with args and kwargs\n",
    "        end_time = time.time()     # End time measurement\n",
    "        \n",
    "        print(f\"For n = {args[0]}, execution time is {end_time - start_time:.6f} seconds\")\n",
    "    \n",
    "    return wrapped\n",
    "\n",
    "# Apply the wrapper decorator to the testfn function\n",
    "@wrapper\n",
    "def wrapped_testfn(n):\n",
    "    testfn(n)\n",
    "\n",
    "# Example usage with different n values\n",
    "for n in ns:\n",
    "    wrapped_testfn(n)"
   ]
  }
 ],
 "metadata": {
  "kernelspec": {
   "display_name": "Python 3 (ipykernel)",
   "language": "python",
   "name": "python3"
  },
  "language_info": {
   "codemirror_mode": {
    "name": "ipython",
    "version": 3
   },
   "file_extension": ".py",
   "mimetype": "text/x-python",
   "name": "python",
   "nbconvert_exporter": "python",
   "pygments_lexer": "ipython3",
   "version": "3.11.0"
  }
 },
 "nbformat": 4,
 "nbformat_minor": 5
}
